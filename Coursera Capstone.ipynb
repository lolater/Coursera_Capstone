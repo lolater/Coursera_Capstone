{
    "cells": [
        {
            "cell_type": "markdown",
            "metadata": {
                "collapsed": true
            },
            "source": "## Coursera Capstone\n\nThis notebook will be mainly used for the capstone project!"
        },
        {
            "cell_type": "code",
            "execution_count": 2,
            "metadata": {},
            "outputs": [
                {
                    "name": "stdout",
                    "output_type": "stream",
                    "text": "Hello Capstone Project Course!\n"
                }
            ],
            "source": "import pandas as pd\nimport numpy as np\n\nprint ('Hello Capstone Project Course!')"
        },
        {
            "cell_type": "markdown",
            "metadata": {},
            "source": "### Introduction/Business Problem"
        },
        {
            "cell_type": "markdown",
            "metadata": {},
            "source": "The manager of a chain of niche bakeries has been in touch as the company would like to expand to Scotland, having opened shops across 10 locations across England. They have requested that I compare the largest two Scottish cities, Edinburgh and Glasgow, to inform which of the two would be better suited for their business. Of particular interest are the existing caf\u00e9s, bistros and bakeries that would, naturally, compete with their branch for customers, as well as the general layout of both cities."
        },
        {
            "cell_type": "markdown",
            "metadata": {},
            "source": "### Data"
        },
        {
            "cell_type": "markdown",
            "metadata": {},
            "source": "I will use the Foursquare API (https://foursquare.com/) for this analysis:\n-\tThe locations of interest are (i) Edinburgh, and, (ii) Glasgow.\n-\tUsing the latitude and longitude of each city, I will explore the postcodes of each city, paying specific attention to eateries (caf\u00e9s, bistros and bakeries) in the respective city centres. This will involve the use of the explore function and a k-means clustering algorithm.\n-\tFinally, I will use the Folium library to map out Edinburgh and Glasgow, showing the clusters of eateries in each city.\n\nTo obtain coordinates for each location, I will use the '2020-2 Scottish Postcode Directory Files' datasets provided by National Records Scotland. This is a list of live and deleted postcodes in Scotland, provided freely online (https://www.nrscotland.gov.uk/statistics-and-data/geography/nrs-postcode-extract).\n"
        },
        {
            "cell_type": "code",
            "execution_count": null,
            "metadata": {},
            "outputs": [],
            "source": ""
        }
    ],
    "metadata": {
        "kernelspec": {
            "display_name": "Python 3.6",
            "language": "python",
            "name": "python3"
        },
        "language_info": {
            "codemirror_mode": {
                "name": "ipython",
                "version": 3
            },
            "file_extension": ".py",
            "mimetype": "text/x-python",
            "name": "python",
            "nbconvert_exporter": "python",
            "pygments_lexer": "ipython3",
            "version": "3.6.9"
        }
    },
    "nbformat": 4,
    "nbformat_minor": 1
}